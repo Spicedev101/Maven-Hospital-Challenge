{
 "cells": [
  {
   "cell_type": "markdown",
   "id": "c94f2f53-feb7-4dcb-a29e-589e1c0c7786",
   "metadata": {},
   "source": [
    "# Maven Hospital Challenge"
   ]
  },
  {
   "cell_type": "markdown",
   "id": "e5274e7e-f18b-4549-8883-5abde4eaebfc",
   "metadata": {},
   "source": [
    "## Project Overview: Hospital Key Performance Indicator (KPI) Report\n",
    "\n",
    "This project aims to create a high-level Key Performance Indicator (KPI) report for the hospital's executive team. The report will provide stakeholders with critical insights into the hospital's recent performance based on a subset of patient records. The key objectives of this project include:"
   ]
  },
  {
   "cell_type": "markdown",
   "id": "9a16542f-5f2f-4db9-98bb-231a28502276",
   "metadata": {},
   "source": [
    "## Project Goals"
   ]
  },
  {
   "cell_type": "markdown",
   "id": "416dd11c-1bb6-419d-bbcb-912bee0a8d5c",
   "metadata": {},
   "source": [
    "### Admission and Readmission Tracking\n",
    "- **Objective:** Monitor the number of patients admitted or readmitted over time.\n",
    "- **Purpose:** Assess patient flow and hospital utilization trends to optimize resource allocation and improve patient care.\n",
    "\n",
    "### Average Length of Stay\n",
    "- **Objective:** Calculate and analyze the average duration of patients' stays in the hospital.\n",
    "- **Purpose:** Understand operational efficiency and patient care management, which can inform strategies for reducing stay durations while maintaining high standards of care.\n",
    "\n",
    "### Average Cost per Visit\n",
    "- **Objective:** Determine the average cost incurred per patient visit.\n",
    "- **Purpose:** Evaluate financial performance and cost management strategies, helping to identify areas where costs can be optimized without compromising care quality.\n",
    "\n",
    "### Insurance Coverage of Procedures\n",
    "- **Objective:** Track the percentage of procedures covered by insurance.\n",
    "- **Purpose:** Gauge revenue streams and reimbursement effectiveness, providing insights into the financial health of the hospital and the impact of insurance coverage on overall revenue.\n"
   ]
  },
  {
   "cell_type": "markdown",
   "id": "0fcbbd3d-3b4b-4130-be94-31e2584426dd",
   "metadata": {},
   "source": [
    "## Business Needs"
   ]
  },
  {
   "cell_type": "markdown",
   "id": "de6977c7-bb30-43e2-a6b7-84a2187b332f",
   "metadata": {},
   "source": [
    "The hospital's executive team requires this dashboard to:\n",
    "Gain insights into hospital operations and performance metrics.\n",
    "Monitor trends in patient admissions, lengths of stay, and healthcare costs.\n",
    "Assess the financial impact of insurance coverage on hospital revenue.\n",
    "Enable informed decision-making and strategic planning based on data-driven insights."
   ]
  },
  {
   "cell_type": "markdown",
   "id": "4931beb7-17c3-488c-aafb-f1099b66ffcc",
   "metadata": {},
   "source": [
    "## Key Insights"
   ]
  },
  {
   "cell_type": "markdown",
   "id": "2fd4fa81-f69b-4941-9e9a-bb1689ff9ef2",
   "metadata": {},
   "source": [
    "## Insights Gathered from January 2011 to January 2022\n",
    "\n",
    "The following insights were gathered during the period under review (January 2011 to January 2022):\n",
    "\n",
    "### Admissions and Readmissions\n",
    "- **Total Patient Admissions:** 27,891 \n",
    "- **Total Readmissions:** 26,917 \n",
    "- **Readmission Rate:** 96.51%\n",
    "\n",
    "### Patient Demographics\n",
    "- **Total Patients:** 974\n",
    "- **Male Patients:** 494 (50.72%)\n",
    "- **Female Patients:** 480 (49.28%)\n",
    "\n",
    "### Average Stay Duration\n",
    "- **Average Duration of Stay:** 7.25 hours\n",
    "\n",
    "### Average Cost per Visit\n",
    "- **Average Cost per Visit:** $3,639.68\n",
    "\n",
    "### Procedures Covered by Insurance\n",
    "- **Total Procedures Covered by Insurance:** 32,599 \n",
    "\n",
    "### Insurance Coverage of Total Cost\n",
    "- **Percentage of Total Cost Covered by Insurance:** 30.36%\n",
    "\n",
    "### Distribution of Patient Encounters\n",
    "- **Wellness Visits:** 6.2%\n",
    "- **Urgent Care:** 13.14%\n",
    "- **Outpatient:** 22.59%\n",
    "- **Inpatient:** 4.07%\n",
    "- **Emergency Visits:** 8.33%\n",
    "- **Ambulatory Visits:** 44.95%\n",
    "\n",
    "### Claims Coverage Details\n",
    "- **Patients with No Insurance:** Accounted for the largest portion of total claim costs ($49 million).\n",
    "- **Medicare Coverage:** $25 million.\n",
    "- **Medicaid Coverage:** $9 million.\n",
    "\n",
    "### Top Reasons for Hospital Visits\n",
    "The top reasons for hospital visits were:\n",
    "- Pregnancy\n",
    "- Atrial fibrillation\n",
    "- Malignant neoplasm of the breast\n"
   ]
  }
 ],
 "metadata": {
  "kernelspec": {
   "display_name": "Python 3 (ipykernel)",
   "language": "python",
   "name": "python3"
  },
  "language_info": {
   "codemirror_mode": {
    "name": "ipython",
    "version": 3
   },
   "file_extension": ".py",
   "mimetype": "text/x-python",
   "name": "python",
   "nbconvert_exporter": "python",
   "pygments_lexer": "ipython3",
   "version": "3.11.4"
  }
 },
 "nbformat": 4,
 "nbformat_minor": 5
}
